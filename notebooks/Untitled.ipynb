{
 "cells": [
  {
   "cell_type": "code",
   "execution_count": 6,
   "metadata": {},
   "outputs": [
    {
     "name": "stdout",
     "output_type": "stream",
     "text": [
      "The autoreload extension is already loaded. To reload it, use:\n",
      "  %reload_ext autoreload\n",
      "env: OMP_NUM_THREADS=20\n"
     ]
    }
   ],
   "source": [
    "%matplotlib inline\n",
    "%load_ext autoreload\n",
    "%autoreload 2\n",
    "%config InlineBackend.figure_format = 'retina'\n",
    "\n",
    "%env OMP_NUM_THREADS=20\n",
    "import warnings\n",
    "warnings.filterwarnings(\"error\")"
   ]
  },
  {
   "cell_type": "code",
   "execution_count": 35,
   "metadata": {},
   "outputs": [],
   "source": [
    "import numpy as np\n",
    "import matplotlib.pyplot as plt"
   ]
  },
  {
   "cell_type": "code",
   "execution_count": 30,
   "metadata": {},
   "outputs": [],
   "source": []
  },
  {
   "cell_type": "code",
   "execution_count": 36,
   "metadata": {},
   "outputs": [],
   "source": [
    "from collections import defaultdict\n",
    "\n",
    "def δ(α, β):\n",
    "    return np.kron(α, β)\n",
    "\n",
    "def cov_2pt(signal_dict, noise_dict, bin_left, bin_right=None, \n",
    "            f_sky=0.6, N_splits=2,\n",
    "            instruments=('Planck', 'Planck', 'Planck', 'Planck'), \n",
    "            observables=('T', 'T', 'T', 'T'), \n",
    "            seasons=(0,0,0,0),\n",
    "            verbose=True):\n",
    "    \"\"\"Compute a covariance matrix for a 2-pt correlation function.\n",
    "    \n",
    "    This is an implementation of equation B2 in arXiv:1610.02360.\n",
    "    \n",
    "    signal_dict : dict\n",
    "        Must have tuple keys for all two-point (T/E/B/κ) pairs\n",
    "        i.e. a key could be ('T', 'E').\n",
    "    noise_dict : dict\n",
    "        Must have tuple keys in the format\n",
    "            (season, instrument, season, instrument, T/E/B/κ, T/E/B/κ)\n",
    "        If you have only one season, set every season value to 0.\n",
    "    \"\"\"\n",
    "    \n",
    "    # if bin_right is not specified, bin_right[n] = bin_left[n+1]\n",
    "    if bin_right == None: \n",
    "        Δbin = bin_left[-1] - bin_left[-2] # last bin-width\n",
    "        bin_right = np.hstack((np.array(bin_left[1:]), [bin_left[-1]+Δbin]))\n",
    "        \n",
    "    A, B, C, D = instruments\n",
    "    W, X, Y, Z = observables\n",
    "    α, β, γ, τ = seasons\n",
    "    \n",
    "    N_s = N_splits\n",
    "    n_b = len(bin_left)\n",
    "    \n",
    "    # assume zero signal and infinite noise for non-specified terms\n",
    "    S_b = defaultdict(lambda:0.0, signal_dict)\n",
    "    N_b = defaultdict(lambda:np.inf, noise_dict)\n",
    "    \n",
    "    ν_b = np.zeros(n_b)\n",
    "    for i, (bl, br) in enumerate(zip(bin_left, bin_right)):\n",
    "        ν_b[i] = np.sum(2 * np.arange(bl, br) + 1) * f_sky\n",
    "    \n",
    "    # deliberately not PEP8, I think this is more readable\n",
    "    sum1 = S_b[W,Y] * S_b[X,Z] + S_b[W,Z] * S_b[X,Y]\n",
    "    \n",
    "    sum2 = (\n",
    "        S_b[W,Y] * δ(β,τ) * N_b[β,B,τ,D,X,Z] + \n",
    "        S_b[X,Z] * δ(α,γ) * N_b[α,A,γ,C,W,Y] +\n",
    "        S_b[W,Z] * δ(β,γ) * N_b[β,B,γ,C,X,Y] + \n",
    "        S_b[X,Y] * δ(α,τ) * N_b[α,A,τ,D,W,Z]\n",
    "    )\n",
    "    \n",
    "    sum3 = (\n",
    "        δ(α,γ) * δ(β,τ) * N[α,A,γ,C,W,Y] * N[β,B,τ,D,X,Z] +\n",
    "        δ(β,γ) * δ(α,τ) * N[α,A,τ,D,W,Z] * N[β,B,γ,C,X,Y]\n",
    "    )\n",
    "    \n",
    "    prefactor_3 = (1/ν_b) * (\n",
    "        (N_s**2 - N_s * (δ(α,β) + δ(γ,τ)) + N_s * δ(α,β) * δ(γ,τ)) /\n",
    "        (N_s**4 - N_s**3 * (δ(α,β) + δ(γ,τ)) + N_s**2 * δ(α,β) * δ(γ,τ))\n",
    "    )\n",
    "    \n",
    "    return (1/ν_b) * sum1 + (1/(N_s * ν_b)) * sum2 + prefactor_3 * sum3"
   ]
  },
  {
   "cell_type": "code",
   "execution_count": 28,
   "metadata": {},
   "outputs": [
    {
     "data": {
      "text/plain": [
       "array([  1,   2,   3,   4,   5,   6,   7,   8,   9,  10,  11,  12,  13,\n",
       "        14,  15,  16,  17,  18,  19,  20,  21,  22,  23,  24,  25,  26,\n",
       "        27,  28,  29,  30,  31,  32,  33,  34,  35,  36,  37,  38,  39,\n",
       "        40,  41,  42,  43,  44,  45,  46,  47,  48,  49,  50,  51,  52,\n",
       "        53,  54,  55,  56,  57,  58,  59,  60,  61,  62,  63,  64,  65,\n",
       "        66,  67,  68,  69,  70,  71,  72,  73,  74,  75,  76,  77,  78,\n",
       "        79,  80,  81,  82,  83,  84,  85,  86,  87,  88,  89,  90,  91,\n",
       "        92,  93,  94,  95,  96,  97,  98,  99, 100])"
      ]
     },
     "execution_count": 28,
     "metadata": {},
     "output_type": "execute_result"
    }
   ],
   "source": [
    "cov_2pt({}, {}, np.arange(100))"
   ]
  },
  {
   "cell_type": "code",
   "execution_count": 37,
   "metadata": {},
   "outputs": [
    {
     "name": "stdout",
     "output_type": "stream",
     "text": [
      "--2019-09-30 08:27:02--  https://raw.githubusercontent.com/xzackli/cmb-mocks/master/notebooks/chains/class_bluebook.covmat\n",
      "Resolving raw.githubusercontent.com (raw.githubusercontent.com)... failed: Temporary failure in name resolution.\n",
      "wget: unable to resolve host address ‘raw.githubusercontent.com’\n"
     ]
    }
   ],
   "source": []
  },
  {
   "cell_type": "code",
   "execution_count": null,
   "metadata": {},
   "outputs": [],
   "source": []
  }
 ],
 "metadata": {
  "kernelspec": {
   "display_name": "Python 3 (ps)",
   "language": "python",
   "name": "ps"
  },
  "language_info": {
   "codemirror_mode": {
    "name": "ipython",
    "version": 3
   },
   "file_extension": ".py",
   "mimetype": "text/x-python",
   "name": "python",
   "nbconvert_exporter": "python",
   "pygments_lexer": "ipython3",
   "version": "3.7.4"
  }
 },
 "nbformat": 4,
 "nbformat_minor": 2
}
