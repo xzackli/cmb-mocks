{
 "cells": [
  {
   "cell_type": "markdown",
   "metadata": {},
   "source": [
    "# Goal 1: Planck-Like likelihood"
   ]
  },
  {
   "cell_type": "code",
   "execution_count": 2,
   "metadata": {},
   "outputs": [
    {
     "name": "stdout",
     "output_type": "stream",
     "text": [
      "env: OMP_NUM_THREADS=20\n"
     ]
    }
   ],
   "source": [
    "%matplotlib inline\n",
    "%load_ext autoreload\n",
    "%autoreload 2\n",
    "%config InlineBackend.figure_format = 'retina'\n",
    "%env OMP_NUM_THREADS=20"
   ]
  },
  {
   "cell_type": "code",
   "execution_count": 2,
   "metadata": {},
   "outputs": [],
   "source": [
    "import numpy as np\n",
    "import matplotlib.pyplot as plt"
   ]
  },
  {
   "cell_type": "code",
   "execution_count": 3,
   "metadata": {},
   "outputs": [
    {
     "name": "stdout",
     "output_type": "stream",
     "text": [
      "[prior] *WARNING* No sampled parameters requested! This will fail for non-mock samplers.\n",
      "[classy] Importing *global* CLASS.\n"
     ]
    }
   ],
   "source": [
    "fiducial_params = {\n",
    "    'omega_b': 0.0224, 'omega_cdm': 0.12, \n",
    "    '100*theta_s': 1.0416, 'tau_reio': 0.07,\n",
    "    'A_s': 2.2e-9, 'n_s': 0.96,\n",
    "    'N_ur': 2.0328, 'N_ncdm': 1, 'm_ncdm': 0.06, 'T_ncdm': 0.71611,}\n",
    "\n",
    "l_max = 2000\n",
    "\n",
    "modules_path = '/home/zequnl/src/cobaya_modules'\n",
    "\n",
    "info_fiducial = {\n",
    "    'params': fiducial_params,\n",
    "    'likelihood': {'one': None},\n",
    "    'theory': {\n",
    "        'classy': None\n",
    "        \n",
    "    }\n",
    "}\n",
    "\n",
    "from cobaya.model import get_model\n",
    "model_fiducial = get_model(info_fiducial)\n",
    "\n",
    "# Declare our desired theory product\n",
    "# (there is no cosmological likelihood doing it for us)\n",
    "model_fiducial.likelihood.theory.needs(Cl={'tt': l_max})\n",
    "\n",
    "# Compute and extract the CMB power spectrum\n",
    "# (In muK^-2, without l(l+1)/(2pi) factor)\n",
    "# notice the empty dictionary below: all parameters are fixed\n",
    "model_fiducial.logposterior({})\n",
    "Cls = model_fiducial.likelihood.theory.get_Cl(ell_factor=False)\n",
    "\n",
    "# Our fiducial power spectrum\n",
    "Cl_est = Cls['tt'][:l_max+1]"
   ]
  },
  {
   "cell_type": "code",
   "execution_count": null,
   "metadata": {},
   "outputs": [],
   "source": []
  },
  {
   "cell_type": "code",
   "execution_count": 4,
   "metadata": {},
   "outputs": [
    {
     "data": {
      "image/png": "[encoded data removed]",
      "text/plain": [
       "<Figure size 432x288 with 1 Axes>"
      ]
     },
     "metadata": {
      "needs_background": "light"
     },
     "output_type": "display_data"
    }
   ],
   "source": [
    "plt.plot(Cl_est)\n",
    "plt.yscale('log')"
   ]
  },
  {
   "cell_type": "code",
   "execution_count": 5,
   "metadata": {},
   "outputs": [],
   "source": [
    "def my_like(\n",
    "        # Parameters that we may sample over (or not)\n",
    "        beam_FWHM=0.25,  # deg\n",
    "        # Declaration of our theory requirements\n",
    "        _theory={'Cl': {'tt': l_max}},\n",
    "        # Declaration of available derived parameters\n",
    "        _derived={'Map_Cl_at_500': None}):\n",
    "    \n",
    "    # Noise spectrum, beam-corrected\n",
    "    healpix_Nside=512\n",
    "    noise_std_pixel= 20\n",
    "    pixel_area_rad = np.pi/(3*healpix_Nside**2)\n",
    "    weight_per_solid_angle = (noise_std_pixel**2 * pixel_area_rad)**-1\n",
    "    beam_sigma_rad = beam_FWHM / np.sqrt(8*np.log(2)) * np.pi/180.\n",
    "    ells = np.arange(l_max+1)\n",
    "    Nl = np.exp((ells*beam_sigma_rad)**2)/weight_per_solid_angle\n",
    "    # Cl of the map: data + noise\n",
    "    Cl_map = Cl_est + Nl\n",
    "    # Cl from theory: treat '_theory' as a 'theory code instance'\n",
    "    Cl_theo = _theory.get_Cl(ell_factor=False)['tt'][:l_max+1]  # muK-2\n",
    "    Cl_map_theo = Cl_theo + Nl\n",
    "    # Set our derived parameter, assuming '_derived' is a dictionary\n",
    "    _derived['Map_Cl_at_500'] = Cl_map[500]\n",
    "    \n",
    "    \n",
    "    # Auxiliary plot\n",
    "#     ell_factor = ells*(ells+1)/(2*np.pi)\n",
    "#     plt.figure()\n",
    "#     plt.plot(ells[2:], (Cl_theo*ell_factor)[2:], label=r'Theory $C_\\ell$')\n",
    "#     plt.plot(ells[2:], (Cl_est*ell_factor)[2:], label=r'Estimated $C_\\ell$')\n",
    "#     plt.plot(ells[2:], (Cl_map*ell_factor)[2:], label=r'Map $C_\\ell$')\n",
    "#     plt.plot(ells[2:], (Nl*ell_factor)[2:], label='Noise')\n",
    "#     plt.legend()\n",
    "#     plt.ylim([0, 6000])\n",
    "\n",
    "    # ----------------\n",
    "    # Compute the log-likelihood\n",
    "    V = Cl_map[2:]/Cl_map_theo[2:]\n",
    "    return np.sum((2*ells[2:]+1)*(-V/2 +1/2.*np.log(V)))"
   ]
  },
  {
   "cell_type": "code",
   "execution_count": 6,
   "metadata": {},
   "outputs": [
    {
     "data": {
      "text/plain": [
       "-2001998.5"
      ]
     },
     "execution_count": 6,
     "metadata": {},
     "output_type": "execute_result"
    }
   ],
   "source": [
    "my_like(_theory=model_fiducial.likelihood.theory)"
   ]
  },
  {
   "cell_type": "code",
   "execution_count": null,
   "metadata": {},
   "outputs": [],
   "source": []
  },
  {
   "cell_type": "code",
   "execution_count": 27,
   "metadata": {},
   "outputs": [],
   "source": [
    "info = {\n",
    "    'params': {\n",
    "        # Fixed\n",
    "        'N_ur': 2.0328, 'N_ncdm': 1, 'm_ncdm': 0.06, 'T_ncdm': 0.71611,\n",
    "        # Sampled\n",
    "        \n",
    "        'logA': {\n",
    "            'prior': {'min': 1.61, 'max': 3.91}, \n",
    "            'ref' : {'dist' : 'norm', 'loc' : 3.05, 'scale' : 0.001},\n",
    "            'proposal' : 0.001,\n",
    "            'latex': '\\log(10^{10} A_\\mathrm{s})', \n",
    "            'drop': True\n",
    "        },\n",
    "        'n_s': {\n",
    "            'prior': {'min': 0.9, 'max': 1.1}, \n",
    "            'ref' : {'dist' : 'norm', 'loc' : 0.965, 'scale' : 0.004},\n",
    "            'proposal' : 0.002,\n",
    "            'latex': 'n_s'\n",
    "        },\n",
    "        'omega_b': {\n",
    "            'prior': {'min': 0.005, 'max': 0.1}, \n",
    "            'ref' : {'dist' : 'norm', 'loc' : 0.0224, 'scale' : 0.0001},\n",
    "            'proposal' : 0.0001,\n",
    "            'latex': '\\Omega_\\mathrm{b} h^2'\n",
    "        },\n",
    "        'omega_cdm': {\n",
    "            'prior': {'min': 0.001, 'max': 0.99}, \n",
    "            'ref' : {'dist' : 'norm', 'loc' : 0.12, 'scale' : 0.001},\n",
    "            'proposal' : 0.0005,\n",
    "            'latex': '\\Omega_\\mathrm{c} h^2'\n",
    "        },\n",
    "        'theta_s_1e2' : {\n",
    "            'prior': {'min': 0.5, 'max': 10.0}, \n",
    "            'ref' : {'dist' : 'norm', 'loc' : 1.0416, 'scale' : 0.0004},\n",
    "            'proposal' : 0.0002,\n",
    "            'latex': '100\\theta_\\mathrm{s}', \n",
    "            'drop': True\n",
    "        },\n",
    "        '100*theta_s' : {\n",
    "            'value': 'lambda theta_s_1e2: theta_s_1e2',\n",
    "            'derived': False\n",
    "        },\n",
    "        'tau_reio': {\n",
    "            'prior': {'min': 0.01, 'max': 0.08}, \n",
    "            'ref' : {'dist' : 'norm', 'loc' : 0.055, 'scale' : 0.006},\n",
    "            'proposal' : 0.003,\n",
    "            'latex': '\\tau_\\mathrm{reio}'\n",
    "        },\n",
    "        # Derived\n",
    "        \n",
    "        'A_s': {'value':'lambda logA: 1e-10*np.exp(logA)', 'latex': 'A_s'},\n",
    "        'H0' : {'latex':'H_0'},\n",
    "        \n",
    "    },\n",
    "    'likelihood': {'my_cl_like': my_like},\n",
    "    'theory': {'classy' : None},\n",
    "    'sampler': {\n",
    "        'mcmc': {\n",
    "            'covmat' : 'chains/class_bluebook.covmat',\n",
    "            'proposal_scale' : 2.4\n",
    "        }\n",
    "    },\n",
    "#     'sampler': {\n",
    "#         'polychord': None\n",
    "#     },  # or polychord...\n",
    "\n",
    "#     'resume' : True,\n",
    "    'force' : True,\n",
    "    \n",
    "#     'modules': modules_path,\n",
    "    'output': 'chains/class_bluebook'}"
   ]
  },
  {
   "cell_type": "code",
   "execution_count": 28,
   "metadata": {},
   "outputs": [
    {
     "name": "stdout",
     "output_type": "stream",
     "text": [
      "[model] *WARNING* Ignored blocks/options: ['sampler', 'force', 'output']\n",
      "[my_cl_like] Initialised external likelihood.\n",
      "[classy] Importing *global* CLASS.\n",
      "[likelihood] The theory code will compute the following products, requested by the likelihoods: ['H0', 'Cl']\n"
     ]
    }
   ],
   "source": [
    "from cobaya.model import get_model\n",
    "model = get_model(info)"
   ]
  },
  {
   "cell_type": "code",
   "execution_count": 29,
   "metadata": {},
   "outputs": [
    {
     "data": {
      "image/png": "[encoded data removed]",
      "text/plain": [
       "<Figure size 432x288 with 1 Axes>"
      ]
     },
     "metadata": {
      "needs_background": "light"
     },
     "output_type": "display_data"
    }
   ],
   "source": [
    "As = np.log(1e10 * np.linspace(1e-9, 4e-9, 10))\n",
    "\n",
    "par = fiducial_params.copy()\n",
    "del par['100*theta_s']\n",
    "del par['A_s']\n",
    "likes = [model.loglike({**par, **{'logA': A,\n",
    "                                 'theta_s_1e2':1.042}})[0] for A in As]\n",
    "\n",
    "plt.figure()\n",
    "plt.plot(As, likes)\n",
    "plt.show()"
   ]
  },
  {
   "cell_type": "code",
   "execution_count": null,
   "metadata": {},
   "outputs": [],
   "source": []
  },
  {
   "cell_type": "code",
   "execution_count": null,
   "metadata": {},
   "outputs": [
    {
     "name": "stdout",
     "output_type": "stream",
     "text": [
      "[output] Output to be read-from/written-into folder 'chains', with prefix 'class_bluebook'\n",
      "[output] Found existing products with the requested ouput prefix: 'chains/class_bluebook'\n",
      "[output] Deleting previous chain ('force' was requested).\n",
      "[my_cl_like] Initialised external likelihood.\n",
      "[classy] Importing *global* CLASS.\n",
      "[likelihood] The theory code will compute the following products, requested by the likelihoods: ['H0', 'Cl']\n",
      "[mcmc] Covariance matrix loaded for params ['logA', 'n_s']\n",
      "[mcmc] Missing proposal covariance for params ['omega_b', 'omega_cdm', 'theta_s_1e2', 'tau_reio']\n",
      "[mcmc] Covariance matrix not complete. We will start learning the covariance of the proposal earlier: R-1 = 30 (was 2).\n",
      "[mcmc] Initial point:\n",
      "[mcmc] \n",
      " weight  minuslogpost      logA       n_s   omega_b  omega_cdm  theta_s_1e2  tau_reio           A_s       H0  \\\n",
      "    1.0  2.002118e+06  3.049515  0.967067  0.022352   0.118876     1.041605  0.065446  2.110512e-09  67.6656   \n",
      "\n",
      " minuslogprior  minuslogprior__0          chi2  chi2__my_cl_like  \n",
      "     -3.549436         -3.549436  4.004244e+06      4.004244e+06  \n",
      "[mcmc] Sampling! (NB: nothing will be printed until 120 burn-in samples have been obtained)\n",
      "[mcmc] Finished burn-in phase: discarded 120 accepted steps.\n",
      "[mcmc] Checkpoint: 240 samples accepted.\n",
      "[mcmc] Ready to check convergence and learn a new proposal covmat\n",
      "[mcmc] Convergence of means: R-1 = 10.813461 after 240 accepted steps\n",
      "[mcmc] Updated covariance matrix of proposal pdf.\n",
      "[mcmc] Checkpoint: 480 samples accepted.\n",
      "[mcmc] Ready to check convergence and learn a new proposal covmat\n",
      "[mcmc] Convergence of means: R-1 = 0.654774 after 480 accepted steps\n",
      "[mcmc] Updated covariance matrix of proposal pdf.\n",
      "[mcmc] Checkpoint: 720 samples accepted.\n",
      "[mcmc] Ready to check convergence and learn a new proposal covmat\n",
      "[mcmc] Convergence of means: R-1 = 0.574115 after 720 accepted steps\n",
      "[mcmc] Updated covariance matrix of proposal pdf.\n",
      "[mcmc] Checkpoint: 960 samples accepted.\n",
      "[mcmc] Ready to check convergence and learn a new proposal covmat\n",
      "[mcmc] Convergence of means: R-1 = 1.312929 after 960 accepted steps\n",
      "[mcmc] Updated covariance matrix of proposal pdf.\n",
      "[mcmc] Checkpoint: 1200 samples accepted.\n",
      "[mcmc] Ready to check convergence and learn a new proposal covmat\n",
      "[mcmc] Convergence of means: R-1 = 0.934697 after 1200 accepted steps\n",
      "[mcmc] Updated covariance matrix of proposal pdf.\n",
      "[mcmc] Checkpoint: 1440 samples accepted.\n",
      "[mcmc] Ready to check convergence and learn a new proposal covmat\n",
      "[mcmc] Convergence of means: R-1 = 0.604615 after 1440 accepted steps\n",
      "[mcmc] Updated covariance matrix of proposal pdf.\n"
     ]
    }
   ],
   "source": [
    "from cobaya.run import run\n",
    "updated_info, products = run(info)"
   ]
  },
  {
   "cell_type": "code",
   "execution_count": null,
   "metadata": {},
   "outputs": [],
   "source": []
  },
  {
   "cell_type": "code",
   "execution_count": 25,
   "metadata": {},
   "outputs": [],
   "source": []
  },
  {
   "cell_type": "code",
   "execution_count": 1,
   "metadata": {},
   "outputs": [
    {
     "name": "stderr",
     "output_type": "stream",
     "text": [
      "WARNING:root:outlier fraction 0.0004761904761904762 \n"
     ]
    },
    {
     "name": "stdout",
     "output_type": "stream",
     "text": [
      "chains/class_bluebook.1.txt\n",
      "Removed no burn in\n"
     ]
    }
   ],
   "source": [
    "from getdist import loadMCSamples\n",
    "\n",
    "# gd_sample = MCSamplesFromCobaya(updated_info, products[\"sample\"])\n",
    "gd_sample = loadMCSamples(\"chains/class_bluebook\")"
   ]
  },
  {
   "cell_type": "code",
   "execution_count": null,
   "metadata": {},
   "outputs": [],
   "source": [
    "gd_sample.paramNames.setLabels(['logA', 'n_s',r'\\omega_b',r'\\omega_{cdm}',r'100 \\theta_S',r'\\tau_{reio}','A_s','H_0'])"
   ]
  },
  {
   "cell_type": "code",
   "execution_count": 3,
   "metadata": {},
   "outputs": [
    {
     "name": "stdout",
     "output_type": "stream",
     "text": [
      "Mean:\n",
      "[3.04131162 0.95609154]\n",
      "Covariance matrix:\n",
      "[[1.62782304e-03 7.54603816e-05]\n",
      " [7.54603816e-05 9.92823619e-05]]\n"
     ]
    },
    {
     "name": "stderr",
     "output_type": "stream",
     "text": [
      "WARNING:root:2D kernel density bandwidth optimizer failed for theta_s_1e2, tau_reio. Using fallback width.\n",
      "WARNING:root:2D kernel density bandwidth optimizer failed for tau_reio, A_s. Using fallback width.\n"
     ]
    }
   ],
   "source": [
    "# Export the results to GetDist\n",
    "# Analyze and plot\n",
    "mean = gd_sample.getMeans()[:2]\n",
    "covmat = gd_sample.getCovMat().matrix[:2, :2]\n",
    "print(\"Mean:\")\n",
    "print(mean)\n",
    "print(\"Covariance matrix:\")\n",
    "print(covmat)\n",
    "\n",
    "%matplotlib inline\n",
    "import getdist.plots as gdplt\n",
    "gdplot = gdplt.getSubplotPlotter()\n",
    "gdplot.triangle_plot(gd_sample, ['n_s','omega_b','omega_cdm','theta_s_1e2','tau_reio','A_s','H0'], filled=True)"
   ]
  },
  {
   "cell_type": "code",
   "execution_count": null,
   "metadata": {},
   "outputs": [],
   "source": []
  },
  {
   "cell_type": "code",
   "execution_count": null,
   "metadata": {},
   "outputs": [],
   "source": []
  }
 ],
 "metadata": {
  "kernelspec": {
   "display_name": "Python 3 (ps)",
   "language": "python",
   "name": "ps"
  },
  "language_info": {
   "codemirror_mode": {
    "name": "ipython",
    "version": 3
   },
   "file_extension": ".py",
   "mimetype": "text/x-python",
   "name": "python",
   "nbconvert_exporter": "python",
   "pygments_lexer": "ipython3",
   "version": "3.7.4"
  }
 },
 "nbformat": 4,
 "nbformat_minor": 2
}
